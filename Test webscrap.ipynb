{
 "cells": [
  {
   "cell_type": "code",
   "execution_count": 1,
   "id": "1d10c095",
   "metadata": {},
   "outputs": [],
   "source": [
    "\n",
    "import requests\n",
    "from bs4 import BeautifulSoup\n",
    "import pandas as pd\n"
   ]
  },
  {
   "cell_type": "code",
   "execution_count": 2,
   "id": "f479296d",
   "metadata": {},
   "outputs": [],
   "source": [
    "url = 'https://www.mediamarkt.es/es/category/juegos-ps5-8533.html?page='\n"
   ]
  },
  {
   "cell_type": "code",
   "execution_count": 3,
   "id": "52e988e9",
   "metadata": {},
   "outputs": [],
   "source": [
    "max_pages = 10"
   ]
  },
  {
   "cell_type": "code",
   "execution_count": 4,
   "id": "ab8ca9ea",
   "metadata": {},
   "outputs": [
    {
     "data": {
      "text/plain": [
       "'https://www.mediamarkt.es/es/category/juegos-ps5-8533.html?page=10'"
      ]
     },
     "execution_count": 4,
     "metadata": {},
     "output_type": "execute_result"
    }
   ],
   "source": [
    "url+str(max_pages)"
   ]
  },
  {
   "cell_type": "code",
   "execution_count": 5,
   "id": "ce0f709b",
   "metadata": {},
   "outputs": [],
   "source": [
    "df = pd.DataFrame()"
   ]
  },
  {
   "cell_type": "code",
   "execution_count": 6,
   "id": "6404bd76",
   "metadata": {},
   "outputs": [],
   "source": [
    "def get_data(url, df):\n",
    "    \n",
    "    req = requests.get(url)\n",
    "\n",
    "    status_code = req.status_code\n",
    "\n",
    "    print(url+' status_code: {}'.format(status_code))\n",
    "\n",
    "    html = BeautifulSoup(req.text, \"html.parser\")\n",
    "\n",
    "    juegos = html.find_all('div', {'class': 'StyledBox-sc-1vld6r2-0 ekazDz StyledFlexBox-sc-1w38xrp-4 lmlWlG'})\n",
    "\n",
    "    for i in range(len(juegos)):\n",
    "        di = {}\n",
    "        properties = juegos[i].find_all('div', {'class': 'BaseTypo-sc-1jga2g7-0 izkVco StyledInfoTypo-sc-1jga2g7-1 dWfJwo'})\n",
    "        properties_titles = juegos[i].find_all('div', {'class': 'BaseTypo-sc-1jga2g7-0 izkVco StyledInfoTypo-sc-1jga2g7-1 bqgsPu'})\n",
    "        precio = juegos[i].find('span', {'class': 'ScreenreaderTextSpan-sc-11hj9ix-0 kZCfsu'}).getText()\n",
    "          \n",
    "        for j in range(len(properties_titles)):\n",
    "            di[properties_titles[j].getText()] = properties[j].getText()\n",
    "        \n",
    "        di['Precio'] = precio\n",
    "        \n",
    "        df = df.append(di, ignore_index=True)\n",
    "        \n",
    "    return df    "
   ]
  },
  {
   "cell_type": "code",
   "execution_count": 7,
   "id": "cacd49db",
   "metadata": {},
   "outputs": [
    {
     "name": "stdout",
     "output_type": "stream",
     "text": [
      "https://www.mediamarkt.es/es/category/juegos-ps5-8533.html?page=1 status_code: 200\n",
      "https://www.mediamarkt.es/es/category/juegos-ps5-8533.html?page=2 status_code: 200\n",
      "https://www.mediamarkt.es/es/category/juegos-ps5-8533.html?page=3 status_code: 200\n",
      "https://www.mediamarkt.es/es/category/juegos-ps5-8533.html?page=4 status_code: 200\n",
      "https://www.mediamarkt.es/es/category/juegos-ps5-8533.html?page=5 status_code: 200\n",
      "https://www.mediamarkt.es/es/category/juegos-ps5-8533.html?page=6 status_code: 200\n",
      "https://www.mediamarkt.es/es/category/juegos-ps5-8533.html?page=7 status_code: 200\n",
      "https://www.mediamarkt.es/es/category/juegos-ps5-8533.html?page=8 status_code: 200\n",
      "https://www.mediamarkt.es/es/category/juegos-ps5-8533.html?page=9 status_code: 200\n",
      "https://www.mediamarkt.es/es/category/juegos-ps5-8533.html?page=10 status_code: 200\n"
     ]
    }
   ],
   "source": [
    "\n",
    "for i in range(1,max_pages+1):\n",
    "    df = get_data(url+str(i), df)\n",
    "    "
   ]
  },
  {
   "cell_type": "code",
   "execution_count": 8,
   "id": "445d25e5",
   "metadata": {},
   "outputs": [
    {
     "data": {
      "text/html": [
       "<div>\n",
       "<style scoped>\n",
       "    .dataframe tbody tr th:only-of-type {\n",
       "        vertical-align: middle;\n",
       "    }\n",
       "\n",
       "    .dataframe tbody tr th {\n",
       "        vertical-align: top;\n",
       "    }\n",
       "\n",
       "    .dataframe thead th {\n",
       "        text-align: right;\n",
       "    }\n",
       "</style>\n",
       "<table border=\"1\" class=\"dataframe\">\n",
       "  <thead>\n",
       "    <tr style=\"text-align: right;\">\n",
       "      <th></th>\n",
       "      <th>Fabricante</th>\n",
       "      <th>Tipo de dispositivo</th>\n",
       "      <th>Título</th>\n",
       "      <th>Género</th>\n",
       "      <th>Precio</th>\n",
       "      <th>Clasificación por edades (PEGI)</th>\n",
       "      <th>Plataforma</th>\n",
       "    </tr>\n",
       "  </thead>\n",
       "  <tbody>\n",
       "    <tr>\n",
       "      <th>0</th>\n",
       "      <td>Capcom</td>\n",
       "      <td>Juego PS5</td>\n",
       "      <td>Resident Evil VIII: Village Lenticular</td>\n",
       "      <td>Acción</td>\n",
       "      <td>42.99</td>\n",
       "      <td>NaN</td>\n",
       "      <td>NaN</td>\n",
       "    </tr>\n",
       "    <tr>\n",
       "      <th>1</th>\n",
       "      <td>Sony</td>\n",
       "      <td>Juego PS5</td>\n",
       "      <td>Sackboy: A Big Adventure</td>\n",
       "      <td>Plataformas</td>\n",
       "      <td>59.99</td>\n",
       "      <td>NaN</td>\n",
       "      <td>NaN</td>\n",
       "    </tr>\n",
       "    <tr>\n",
       "      <th>2</th>\n",
       "      <td>Sony</td>\n",
       "      <td>Juego PS5</td>\n",
       "      <td>Gran Turismo 7: Edición 25 Aniversario</td>\n",
       "      <td>Carreras</td>\n",
       "      <td>99.99</td>\n",
       "      <td>NaN</td>\n",
       "      <td>NaN</td>\n",
       "    </tr>\n",
       "    <tr>\n",
       "      <th>3</th>\n",
       "      <td>NaN</td>\n",
       "      <td>Juego PS5</td>\n",
       "      <td>Yuoni</td>\n",
       "      <td>Terror</td>\n",
       "      <td>23.99</td>\n",
       "      <td>16+</td>\n",
       "      <td>NaN</td>\n",
       "    </tr>\n",
       "    <tr>\n",
       "      <th>4</th>\n",
       "      <td>Sony</td>\n",
       "      <td>Juego PS5</td>\n",
       "      <td>Gran Turismo 7</td>\n",
       "      <td>Carreras</td>\n",
       "      <td>79.99</td>\n",
       "      <td>NaN</td>\n",
       "      <td>NaN</td>\n",
       "    </tr>\n",
       "    <tr>\n",
       "      <th>...</th>\n",
       "      <td>...</td>\n",
       "      <td>...</td>\n",
       "      <td>...</td>\n",
       "      <td>...</td>\n",
       "      <td>...</td>\n",
       "      <td>...</td>\n",
       "      <td>...</td>\n",
       "    </tr>\n",
       "    <tr>\n",
       "      <th>115</th>\n",
       "      <td>Meridien</td>\n",
       "      <td>Juego PS5</td>\n",
       "      <td>Edge Of Eternity</td>\n",
       "      <td>Anime</td>\n",
       "      <td>34.99</td>\n",
       "      <td>NaN</td>\n",
       "      <td>NaN</td>\n",
       "    </tr>\n",
       "    <tr>\n",
       "      <th>116</th>\n",
       "      <td>NaN</td>\n",
       "      <td>Juego PS5</td>\n",
       "      <td>Balan Wonderworld PS5</td>\n",
       "      <td>Acción</td>\n",
       "      <td>19.99</td>\n",
       "      <td>12+</td>\n",
       "      <td>NaN</td>\n",
       "    </tr>\n",
       "    <tr>\n",
       "      <th>117</th>\n",
       "      <td>Namco Bandai</td>\n",
       "      <td>Juego PS5</td>\n",
       "      <td>Tales Of Arise</td>\n",
       "      <td>Aventura</td>\n",
       "      <td>59.99</td>\n",
       "      <td>NaN</td>\n",
       "      <td>NaN</td>\n",
       "    </tr>\n",
       "    <tr>\n",
       "      <th>118</th>\n",
       "      <td>NaN</td>\n",
       "      <td>Juego PS5</td>\n",
       "      <td>Dying Light 2 Stay Human</td>\n",
       "      <td>Acción</td>\n",
       "      <td>88.99</td>\n",
       "      <td>18+</td>\n",
       "      <td>NaN</td>\n",
       "    </tr>\n",
       "    <tr>\n",
       "      <th>119</th>\n",
       "      <td>Meriden</td>\n",
       "      <td>Juego PS5</td>\n",
       "      <td>Unbound Worlds Apart</td>\n",
       "      <td>Plataformas</td>\n",
       "      <td>24.99</td>\n",
       "      <td>NaN</td>\n",
       "      <td>NaN</td>\n",
       "    </tr>\n",
       "  </tbody>\n",
       "</table>\n",
       "<p>120 rows × 7 columns</p>\n",
       "</div>"
      ],
      "text/plain": [
       "       Fabricante Tipo de dispositivo                                  Título  \\\n",
       "0          Capcom           Juego PS5  Resident Evil VIII: Village Lenticular   \n",
       "1            Sony           Juego PS5                Sackboy: A Big Adventure   \n",
       "2            Sony           Juego PS5  Gran Turismo 7: Edición 25 Aniversario   \n",
       "3             NaN           Juego PS5                                   Yuoni   \n",
       "4            Sony           Juego PS5                          Gran Turismo 7   \n",
       "..            ...                 ...                                     ...   \n",
       "115      Meridien           Juego PS5                        Edge Of Eternity   \n",
       "116           NaN           Juego PS5                   Balan Wonderworld PS5   \n",
       "117  Namco Bandai           Juego PS5                          Tales Of Arise   \n",
       "118           NaN           Juego PS5                Dying Light 2 Stay Human   \n",
       "119       Meriden           Juego PS5                    Unbound Worlds Apart   \n",
       "\n",
       "          Género Precio Clasificación por edades (PEGI) Plataforma  \n",
       "0         Acción  42.99                             NaN        NaN  \n",
       "1    Plataformas  59.99                             NaN        NaN  \n",
       "2       Carreras  99.99                             NaN        NaN  \n",
       "3         Terror  23.99                             16+        NaN  \n",
       "4       Carreras  79.99                             NaN        NaN  \n",
       "..           ...    ...                             ...        ...  \n",
       "115        Anime  34.99                             NaN        NaN  \n",
       "116       Acción  19.99                             12+        NaN  \n",
       "117     Aventura  59.99                             NaN        NaN  \n",
       "118       Acción  88.99                             18+        NaN  \n",
       "119  Plataformas  24.99                             NaN        NaN  \n",
       "\n",
       "[120 rows x 7 columns]"
      ]
     },
     "execution_count": 8,
     "metadata": {},
     "output_type": "execute_result"
    }
   ],
   "source": [
    "df"
   ]
  },
  {
   "cell_type": "code",
   "execution_count": 10,
   "id": "62d2c5b9",
   "metadata": {},
   "outputs": [
    {
     "data": {
      "text/html": [
       "<div>\n",
       "<style scoped>\n",
       "    .dataframe tbody tr th:only-of-type {\n",
       "        vertical-align: middle;\n",
       "    }\n",
       "\n",
       "    .dataframe tbody tr th {\n",
       "        vertical-align: top;\n",
       "    }\n",
       "\n",
       "    .dataframe thead th {\n",
       "        text-align: right;\n",
       "    }\n",
       "</style>\n",
       "<table border=\"1\" class=\"dataframe\">\n",
       "  <thead>\n",
       "    <tr style=\"text-align: right;\">\n",
       "      <th></th>\n",
       "      <th>Fabricante</th>\n",
       "      <th>Tipo de dispositivo</th>\n",
       "      <th>Título</th>\n",
       "      <th>Género</th>\n",
       "      <th>Precio</th>\n",
       "      <th>Clasificación por edades (PEGI)</th>\n",
       "      <th>Plataforma</th>\n",
       "    </tr>\n",
       "  </thead>\n",
       "  <tbody>\n",
       "    <tr>\n",
       "      <th>110</th>\n",
       "      <td>SEGA</td>\n",
       "      <td>NaN</td>\n",
       "      <td>NaN</td>\n",
       "      <td>Aventura</td>\n",
       "      <td>28.99</td>\n",
       "      <td>3+</td>\n",
       "      <td>PlayStation 5</td>\n",
       "    </tr>\n",
       "  </tbody>\n",
       "</table>\n",
       "</div>"
      ],
      "text/plain": [
       "    Fabricante Tipo de dispositivo Título    Género Precio  \\\n",
       "110       SEGA                 NaN    NaN  Aventura  28.99   \n",
       "\n",
       "    Clasificación por edades (PEGI)     Plataforma  \n",
       "110                              3+  PlayStation 5  "
      ]
     },
     "execution_count": 10,
     "metadata": {},
     "output_type": "execute_result"
    }
   ],
   "source": [
    "df[-df['Plataforma'].isnull()]"
   ]
  },
  {
   "cell_type": "code",
   "execution_count": null,
   "id": "3e9628e2",
   "metadata": {},
   "outputs": [],
   "source": []
  }
 ],
 "metadata": {
  "kernelspec": {
   "display_name": "Python 3 (ipykernel)",
   "language": "python",
   "name": "python3"
  },
  "language_info": {
   "codemirror_mode": {
    "name": "ipython",
    "version": 3
   },
   "file_extension": ".py",
   "mimetype": "text/x-python",
   "name": "python",
   "nbconvert_exporter": "python",
   "pygments_lexer": "ipython3",
   "version": "3.9.7"
  }
 },
 "nbformat": 4,
 "nbformat_minor": 5
}
